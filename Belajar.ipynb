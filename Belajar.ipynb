{
 "metadata": {
  "language_info": {
   "codemirror_mode": {
    "name": "ipython",
    "version": 3
   },
   "file_extension": ".py",
   "mimetype": "text/x-python",
   "name": "python",
   "nbconvert_exporter": "python",
   "pygments_lexer": "ipython3",
   "version": "3.9.5"
  },
  "orig_nbformat": 2,
  "kernelspec": {
   "name": "python395jvsc74a57bd0ada7745f2ca2a583e2275f5ae0d4b1c927954812f4df76e510ee032197f442cc",
   "display_name": "Python 3.9.5 64-bit"
  },
  "metadata": {
   "interpreter": {
    "hash": "ada7745f2ca2a583e2275f5ae0d4b1c927954812f4df76e510ee032197f442cc"
   }
  }
 },
 "nbformat": 4,
 "nbformat_minor": 2,
 "cells": [
  {
   "source": [
    "print(\"Hello Jupyter! I'm from Vs Code\")\n"
   ],
   "cell_type": "code",
   "metadata": {},
   "execution_count": 1,
   "outputs": [
    {
     "output_type": "stream",
     "name": "stdout",
     "text": [
      "Hello Jupyter! I'm from Vs Code\n"
     ]
    }
   ]
  },
  {
   "cell_type": "code",
   "execution_count": 2,
   "metadata": {},
   "outputs": [
    {
     "output_type": "error",
     "ename": "SyntaxError",
     "evalue": "invalid syntax (<ipython-input-2-f13b1e3212a9>, line 3)",
     "traceback": [
      "\u001b[1;36m  File \u001b[1;32m\"<ipython-input-2-f13b1e3212a9>\"\u001b[1;36m, line \u001b[1;32m3\u001b[0m\n\u001b[1;33m    Statement tingkat 1:\u001b[0m\n\u001b[1;37m              ^\u001b[0m\n\u001b[1;31mSyntaxError\u001b[0m\u001b[1;31m:\u001b[0m invalid syntax\n"
     ]
    }
   ],
   "source": [
    "#Indentasi\n",
    "\n",
    "Statement tingkat 1:\n",
    "    Statement tingkat 2()\n",
    "    Statement tingkat 2 yang kedua()"
   ]
  },
  {
   "cell_type": "code",
   "execution_count": null,
   "metadata": {},
   "outputs": [],
   "source": [
    "#Baris Lanjutan, digunakan apabila kode tidak cukup ditulis\n",
    "\n",
    "#disarankan:\n",
    "\n",
    "# Opsi 1\n",
    "# Rata kiri dengan kurung atau pemisah dengan argumen utama\n",
    "foo = long_function_name(var_one, var_two,\n",
    "                         var_three, var_four)\n",
    " \n",
    "# Opsi 2\n",
    "# Tambahkan indentasi ekstra - (level indentasi baru) untuk memisahkan parameter/argument dari bagian lainnya\n",
    "def long_function_name(\n",
    "        var_one, var_two, var_three,\n",
    "        var_four):\n",
    "    print(var_one)\n",
    " \n",
    "# Opsi 3\n",
    "# Hanging indents dengan penambahan level indentasi saja\n",
    "foo = long_function_name(\n",
    "    var_one, var_two,\n",
    "    var_three, var_four)\n"
   ]
  },
  {
   "cell_type": "code",
   "execution_count": null,
   "metadata": {},
   "outputs": [],
   "source": [
    "#--count Baris lanjutan\n",
    "\n",
    "# tidak disarankan\n",
    "# Opsi 1\n",
    "# Rata kiri dengan kurung atau pemisah dengan argumen utama\n",
    "foo = long_function_name(var_one, var_two,\n",
    "                         var_three, var_four)\n",
    " \n",
    "# Opsi 2\n",
    "# Tambahkan indentasi ekstra - (level indentasi baru) untuk memisahkan parameter/argument dari bagian lainnya\n",
    "def long_function_name(\n",
    "        var_one, var_two, var_three,\n",
    "        var_four):\n",
    "    print(var_one)\n",
    " \n",
    "# Opsi 3\n",
    "# Hanging indents dengan penambahan level indentasi saja\n",
    "foo = long_function_name(\n",
    "    var_one, var_two,\n",
    "    var_three, var_four)"
   ]
  },
  {
   "cell_type": "code",
   "execution_count": null,
   "metadata": {},
   "outputs": [],
   "source": [
    "# Hanging indents *boleh* menggunakan selain 4 spasi\n",
    "foo = long_function_name(\n",
    "  var_one, var_two,\n",
    "  var_three, var_four)"
   ]
  },
  {
   "cell_type": "code",
   "execution_count": null,
   "metadata": {},
   "outputs": [],
   "source": [
    "#Kondisi if yang tidak bisa ditulis dalam satu baris\n",
    "\n",
    "# Contoh kondisi visual yang tidak diubah/tanpa indentasi\n",
    "if (sebuah kondisi dan\n",
    "    kondisi yang lain):\n",
    "    lakukanSesuatu()\n",
    " \n",
    "# Tambahkan komentar\n",
    "if (sebuah kondisi dan\n",
    "    kondisi yang lain):\n",
    "    #Mengingat Keduanya Benar, lakukan hal berikut\n",
    "    lakukanSesuatu()\n",
    " \n",
    "# Tambahkan ekstra indentasi pada baris lanjutan\n",
    "if (sebuah kondisi dan\n",
    "        kondisi yang lain):\n",
    "    lakukanSesuatu()"
   ]
  },
  {
   "cell_type": "code",
   "execution_count": null,
   "metadata": {},
   "outputs": [],
   "source": [
    "#Kurung siku atau penutup\n",
    "\n",
    "#dapat diletakan pada baris lanjutan mengikuti posisi karakter pertama yang bukan whitespacez(non-whitespace character)\n",
    "\n",
    "my_list = [\n",
    "    1, 2, 3,\n",
    "    4, 5, 6,\n",
    "    ]\n",
    " \n",
    "result = some_function_that_takes_arguments(\n",
    "    'a', 'b', 'c',\n",
    "    'd', 'e', 'f',\n",
    "    )\n",
    "\n",
    "#Atau dapat diletakkan sejajar dengan statemen utama, contoh:\n",
    "\n",
    "my_list = [\n",
    "    1, 2, 3,\n",
    "    4, 5, 6,\n",
    "]\n",
    " \n",
    "result = some_function_that_takes_arguments(\n",
    "    'a', 'b', 'c',\n",
    "    'd', 'e', 'f',\n",
    ")"
   ]
  },
  {
   "cell_type": "code",
   "execution_count": null,
   "metadata": {},
   "outputs": [],
   "source": [
    "#Tab atau spasi\n",
    "#Tidak diperblehkan pencampuran antara tab dan dpasiuntuk inentasi. disarankan untuk melakukan konversi kode untuk menggunakan spasi sepenuhnya.\n",
    "#Menggunakan find replace untuk mengganti tab, atau memanggil kode anda yang berbasis Python 2 dengan \"Opsi -t(warning) atau -tt(error)\" ==> untuk mengetahui penggunaan tab dan spasi yang tercampur"
   ]
  },
  {
   "cell_type": "code",
   "execution_count": null,
   "metadata": {},
   "outputs": [],
   "source": [
    "#Panjang baaris Maksimum\n",
    "#Kode <79 karakter\n",
    "#komentar/dokumentasi <72 karakter\n",
    "\n",
    "#lebih dari kesepakatan karakteer sisa berupa marker dlyph atau whitespace\n"
   ]
  },
  {
   "cell_type": "code",
   "execution_count": null,
   "metadata": {},
   "outputs": [],
   "source": [
    "#Penggunaan pemisahan atau black atau pemisahan (\\). bisa digunaan pada statement atau with assert tidak dapat menggunakan impilicit continuation.\n",
    "\n",
    "#pastkan untuk memberikan indentaasi yang sesuai pada bari-baris selanjutnya\n",
    "\n",
    "with open('/path/to/some/file/you/want/to/read') as file_1, \\\n",
    "     open('/path/to/some/file/being/written', 'w') as file_2:\n",
    "    file_2.write(file_1.read())"
   ]
  },
  {
   "cell_type": "code",
   "execution_count": null,
   "metadata": {},
   "outputs": [],
   "source": [
    "# Variabel\n",
    "\n",
    "print(price)\n",
    "\n",
    "discount = 0.5\n",
    "print(discount)\n",
    "\n",
    "price = 100000 * discount\n",
    "print(price)\n",
    "\n",
    "name = \"nao\"`\n",
    "print(name)\n",
    "\n",
    "is_discount = True\n",
    "print(is_discount)\n",
    "\n",
    "is_name = False\n",
    "print(is_name)"
   ]
  },
  {
   "cell_type": "code",
   "execution_count": null,
   "metadata": {},
   "outputs": [],
   "source": [
    "# Menerima input user\n",
    "\n",
    "year = input(\"Tahun lahir : \")\n",
    "print(int(year))\n",
    "\n",
    "year = int(year)\n",
    "print(type(year))  \n",
    "\n",
    "age = 2021 - year\n",
    "\n",
    "age = str(age)\n",
    "\n",
    "print(\"Umur kamu \" + str(age))\n"
   ]
  },
  {
   "cell_type": "code",
   "execution_count": null,
   "metadata": {},
   "outputs": [],
   "source": [
    "# Membuat karakter\n",
    "\n",
    "nama1 = input('Siapa nama kamu: ')\n",
    "nama2 = input('Siapa nama kamu: ')\n",
    "\n",
    "print(\" {}  dan  {} sepertinya pasangan yang serasi  \".format(nama1, nama2))\n"
   ]
  },
  {
   "cell_type": "code",
   "execution_count": null,
   "metadata": {},
   "outputs": [],
   "source": [
    "# Mengambil karakter\n",
    "\n",
    "nama = \"Marisa Naofa\"\n",
    "print(name[0;6])\n"
   ]
  },
  {
   "cell_type": "code",
   "execution_count": null,
   "metadata": {},
   "outputs": [],
   "source": [
    "#mengambil karakter\n",
    "\n",
    "# Formated string form\n",
    "# 1\n",
    "first_name = \"Marisa\"\n",
    "last_name = \"Naofa\"\n",
    "\n",
    "massage = first_name + \" [\" + last_name + \"] \"\n",
    "massage = f\"{first_name} [{last_name}]\" # mencetak massage lebih simple\n",
    "\n",
    "print(massage)\n"
   ]
  },
  {
   "cell_type": "code",
   "execution_count": null,
   "metadata": {},
   "outputs": [],
   "source": [
    "# 2\n",
    "\n",
    "age = 20\n",
    "\n",
    "massage = \"Umur kamu \" + str(age) \n",
    "massage = f\"Umur kamu {age}\" # jika ingin menyisipkan variabel didalam stringe\n",
    "\n",
    "print(massage)\n"
   ]
  },
  {
   "cell_type": "code",
   "execution_count": null,
   "metadata": {},
   "outputs": [],
   "source": [
    "\n",
    "#Fungsi-fungsi pada stringe\n",
    "# 1\n",
    "course = \"Belajar python bareng Marisa Naofa\"\n",
    "length = len(course)\n",
    "\n",
    "print(length) #jika ingin mengetahui panjang bahasa\n"
   ]
  },
  {
   "cell_type": "code",
   "execution_count": null,
   "metadata": {},
   "outputs": [],
   "source": [
    "#2\n",
    "\n",
    "course = \"Belajar python bareng Marisa Naofa\"\n",
    "print(course.upper()) # memanggil karakter dengan huruf kapital\n",
    "print(course.lower()) # memanggil karakter dengan huruf kecil\n",
    "print(course.capitalize()) # memanggil karakter dengan huruf depan menjadi kapital\n",
    "print(course.replace(\"python\", \"javascript\")) # mengganti kata tersedia dengan kata yang baru\n"
   ]
  },
  {
   "cell_type": "code",
   "execution_count": null,
   "metadata": {},
   "outputs": [],
   "source": [
    "#3\n",
    "course = \"Belajar python bareng Marisa Naofa\"\n",
    "language = \"python\"\n",
    "\n",
    "print(languange in course) #mencari tahu apakah kata didalam language ada course, hasil berupa \"false\" atau \"true\"\n"
   ]
  },
  {
   "cell_type": "code",
   "execution_count": null,
   "metadata": {},
   "outputs": [],
   "source": [
    "# Operator Matematika\n",
    "# 1\n",
    "\n",
    "x = 10\n",
    "y = 2\n",
    "print(x / y) # hasil float, kalo mau hasil bulat menggunakan \"//\"\n",
    "print(x % y) # hasil lebihan misal y = 4 maka hasil cetak yang muncul adalah 2\n"
   ]
  },
  {
   "cell_type": "code",
   "execution_count": null,
   "metadata": {},
   "outputs": [],
   "source": [
    "#2\n",
    "\n",
    "x = 10\n",
    "x = x + 5\n",
    "x -= 5 #(= 10-5)\n",
    "x += 5 #(= 10+5)\n",
    "\n",
    "print(x) #x= x + 5 maka hasilnya adalah 15\n",
    "\n",
    "#aturan hitung di python sama dengan aturan dasar matematika, urutan :\n",
    "#tanda dalam kurung\n",
    "#perpangkatan\n",
    "#perkalian dan pembagian \n",
    "#penjumlahan dan pengurangan\n"
   ]
  },
  {
   "cell_type": "code",
   "execution_count": null,
   "metadata": {},
   "outputs": [],
   "source": [
    "#Fungsi-fungdi yang terkait dengan matematika\n",
    "\n",
    "number = 5.8\n",
    "number = round(number) #untuk membulatkan hasil\n",
    "print(number)\n",
    "\n",
    "#jika 0,5 > dibulatkan keatas, jika <0,5 maka hasil tetap\n",
    "\n"
   ]
  },
  {
   "cell_type": "code",
   "execution_count": null,
   "metadata": {},
   "outputs": [],
   "source": [
    "import math\n",
    "#Fungsi ini sangat dibutuhkan fungsi matematika \n",
    "#jika searching (tutorial menggunakan math di python 3)\n",
    "\n",
    "number = 5.8\n",
    "number = math.ceil(number) #membulatkan keatas, jika (float) maka sebaliknya\n",
    "print(number)\n"
   ]
  },
  {
   "cell_type": "code",
   "execution_count": null,
   "metadata": {},
   "outputs": [],
   "source": [
    "# Kondisi menggunakan If dan Else atau (boolean)\n",
    "\n",
    "is_day = True #1 nilai adalah true dan false\n",
    "is_night = True #2\n",
    "\n",
    "if is_day: #syarat jika nilainya bisa diprint (true) dan (false) sebaliknya #1\n",
    "    print(\"Selamat siang\")\n",
    "elif is_night: #akan tercetak jika is_day bernilai false\n",
    "    print(\"Selamat Malam\")\n",
    "else: \n",
    "    print(\"Selamat makan\") #akan dicetak jika nilai if adalah (false) jika nilai if (true maka tidak akan tercetak) #1\n",
    "                            # akan tercetak jika nilai (if dan elif) false\n",
    "\n",
    "print(\"Selamat menikmati harimu\") #jika nilai \"if\" true maka akan tercetak smeua, jika sebaliknya maka perintah if tidak tercetak #1\n"
   ]
  },
  {
   "cell_type": "code",
   "execution_count": null,
   "metadata": {},
   "outputs": [],
   "source": [
    "#Operator perbandingan\n",
    "\n",
    "result = 4 > 3 #nilai < dan > hasil cetak sesuai dasar math\n",
    "result1 = 4 >= 3 # >= artinya \"kurang dari\" begitupun sebaliknya\n",
    "result = 4 == 3 #artinya nilai \"sama dengan\", hasil cetak False dan true\n",
    "result = 4 != 5 #artinya nilai \"tidak sama dengan\", hasil cetak false dan true\n",
    "\n",
    "print(result)\n"
   ]
  },
  {
   "cell_type": "code",
   "execution_count": null,
   "metadata": {},
   "outputs": [],
   "source": [
    "#penggabungan (if) dan nilai operator perbandingan\n",
    "\n",
    "grade = 5\n",
    "\n",
    "if grade >= 8:\n",
    "    print(\"nilai kamu A\") \n",
    "elif grade >= 7:\n",
    "    print(\"nilai kamu adalah B\")\n",
    "elif grade >= 6:\n",
    "        print(\"nilai kamu adalah C\")\n",
    "else:\n",
    "    print(\"Silahkan kamu belajar lagi dengan tekun\")\n"
   ]
  },
  {
   "cell_type": "code",
   "execution_count": null,
   "metadata": {},
   "outputs": [],
   "source": [
    "#Operator lLogikan (Penggabungan if fan statement)\n",
    "\n",
    "nama = \"Marisa Naofa\"\n",
    "\n",
    "if len(nama) > 3:\n",
    "    print(\"Welcome\")\n",
    "else:\n",
    "    (\"Nama terlalu pendek\")\n",
    "\n",
    "    #karena panjang lebih dari 3 karakter maka tercetak \"welcome\""
   ]
  },
  {
   "cell_type": "code",
   "execution_count": null,
   "metadata": {},
   "outputs": [],
   "source": [
    "#Operator lLogikan (Penggabungan if fan statement)\n",
    "   #Operator logika digunakan jika ingin mencetak welcome \n",
    "\n",
    "nama = \"Na\" #meskipun hanya 2 tdk sesuai perintah if maka bis menggunakan operatur or true.\n",
    "\n",
    "if len(nama) > 3 or True : #oleh karena itu yang tercetak false karena false or true\n",
    "    print(\"Welcome\")\n",
    "else:\n",
    "    (\"Nama terlalu pendek\")\n",
    "\n",
    "False or True = true \n",
    "True or False = true\n",
    "False or False = false\n",
    "True and False = false\n",
    "False and True = false\n",
    "True and True = true\n",
    "\n",
    "\n",
    "nama = \"Na\" \n",
    "by_pass_validation = False\n",
    "\n",
    "if len(nama) > 3 or by_pass_validation : \n",
    "        print(\"Welcome\")\n",
    "else:\n",
    "    (\"Nama terlalu pendek\")\n",
    "\n",
    "#mencetak fungsi else karena \"false or false\""
   ]
  },
  {
   "cell_type": "code",
   "execution_count": null,
   "metadata": {},
   "outputs": [],
   "source": [
    "#Perulangan \"While\", bagian kode yang tugasnya berjalan berulang-ulang sampai perulangan tidak dibutuhkan lagi\n",
    "\n",
    "lucky = 1\n",
    "\n",
    "while lucky <= 5:\n",
    "    print(\"jalan\") #1, ganti perintah jadi 2\n",
    "    lucky += 1\n",
    "\n",
    "    #1tambahan jika ingin mencetak sesuai pertambahan index\n",
    "    #2\n",
    "    print(\"*\" * lucky)\n",
    "\n",
    "print(\"Finish\")\n",
    "\n",
    "\n",
    "#dibelakang while harus bernilai true atau false\n",
    "#pertama harus bernilai true\n",
    "\n",
    "#jika nilai lucky lebih dari 5 maka hasil yang keluar adalah \"finish\""
   ]
  },
  {
   "cell_type": "code",
   "execution_count": null,
   "metadata": {},
   "outputs": [],
   "source": [
    "#percabangan ELIF (ELSE/IF)\n",
    "\n",
    "nilai = int(input(\"Masukkan nilai tugas Anda : \"))\n",
    "if nilai>80:\n",
    "   print(\"Selamat! Anda mendapat nilai A\")\n",
    "   print(\"Pertahankan!\")\n",
    "elif nilai>70:\n",
    "   print(\"Hore! Anda mendapat nilai B\")\n",
    "   print(\"Tingkatkan!\")\n",
    "elif nilai>60:\n",
    "   print(\"Hmm.. Anda mendapat nilai C\")\n",
    "   print(\"Ayo semangat!\")\n",
    "else:\n",
    "   print(\"Waduh, Anda mendapat nilai D\")\n",
    "   print(\"Yuk belajar lebih giat lagi!\")\n",
    "   "
   ]
  },
  {
   "cell_type": "code",
   "execution_count": null,
   "metadata": {},
   "outputs": [],
   "source": [
    "#Kasus percabangan elif 2\n",
    "\n",
    "bilangan = -3\n",
    "if bilangan > 0:\n",
    "    print('Bilangan {} adalah positif'.format(bilangan))\n",
    "elif bilangan < 0:\n",
    "    print('Bilangan {} adalah negatif'.format(bilangan))\n",
    "else:\n",
    "    print('Bilangan {} adalah nol'.format(bilangan))"
   ]
  },
  {
   "cell_type": "code",
   "execution_count": null,
   "metadata": {},
   "outputs": [],
   "source": []
  }
 ]
}